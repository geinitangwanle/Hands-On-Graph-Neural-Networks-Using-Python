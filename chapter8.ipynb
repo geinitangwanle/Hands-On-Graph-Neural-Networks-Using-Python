{
 "cells": [
  {
   "cell_type": "markdown",
   "id": "fd7d94f7",
   "metadata": {},
   "source": [
    "# GraphSAGE"
   ]
  },
  {
   "cell_type": "code",
   "execution_count": 3,
   "id": "c0fd18aa",
   "metadata": {},
   "outputs": [],
   "source": [
    "from torch_geometric.datasets import Planetoid"
   ]
  },
  {
   "cell_type": "code",
   "execution_count": 5,
   "id": "bf73d35e",
   "metadata": {},
   "outputs": [
    {
     "name": "stderr",
     "output_type": "stream",
     "text": [
      "Processing...\n",
      "Done!\n"
     ]
    },
    {
     "name": "stdout",
     "output_type": "stream",
     "text": [
      "Dataset:Pubmed()\n",
      "---------------\n",
      "Number of graphs: 1\n",
      "Number of nodes: 19717\n",
      "Number of features: 500\n",
      "Number of classes: 3\n",
      "Graph\n",
      "-----------\n",
      "Training nodes: 60\n",
      "Validation nodes: 500\n",
      "Test nodes: 1000\n",
      "Edges are directed: False\n",
      "Graph has isolated nodes: False\n",
      "Graph has self-loops: False\n"
     ]
    }
   ],
   "source": [
    "dataset = Planetoid(root=\".\", name=\"Pubmed\")\n",
    "data = dataset[0]\n",
    "\n",
    "print(f'Dataset:{dataset}')\n",
    "print(\"---------------\")\n",
    "print('Number of graphs:', len(dataset))\n",
    "print(f'Number of nodes: {data.num_nodes}')\n",
    "print(f'Number of features: {data.num_features}')\n",
    "print(f'Number of classes: {dataset.num_classes}')\n",
    "\n",
    "print(f'Graph')\n",
    "print('-----------')\n",
    "print(f'Training nodes: {sum(data.train_mask)}')\n",
    "print(f'Validation nodes: {sum(data.val_mask)}')\n",
    "print(f'Test nodes: {sum(data.test_mask)}')\n",
    "print(f'Edges are directed: {data.is_directed()}')\n",
    "print(f'Graph has isolated nodes: {data.has_isolated_nodes()}')\n",
    "print(f'Graph has self-loops: {data.has_self_loops()}')\n",
    "\n",
    "\n",
    "\n",
    "\n",
    "\n"
   ]
  },
  {
   "cell_type": "code",
   "execution_count": null,
   "id": "0fb199d5",
   "metadata": {},
   "outputs": [],
   "source": []
  }
 ],
 "metadata": {
  "kernelspec": {
   "display_name": "py38",
   "language": "python",
   "name": "python3"
  },
  "language_info": {
   "codemirror_mode": {
    "name": "ipython",
    "version": 3
   },
   "file_extension": ".py",
   "mimetype": "text/x-python",
   "name": "python",
   "nbconvert_exporter": "python",
   "pygments_lexer": "ipython3",
   "version": "3.8.20"
  }
 },
 "nbformat": 4,
 "nbformat_minor": 5
}
