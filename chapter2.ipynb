{
 "cells": [
  {
   "cell_type": "markdown",
   "id": "c4eea1c1",
   "metadata": {},
   "source": [
    "# 图神经网络的图论"
   ]
  },
  {
   "cell_type": "markdown",
   "id": "96d00139",
   "metadata": {},
   "source": [
    "## 创建无向图"
   ]
  },
  {
   "cell_type": "code",
   "execution_count": 5,
   "id": "91309869",
   "metadata": {},
   "outputs": [],
   "source": [
    "import networkx as nx\n",
    "G = nx.Graph() #创建无向图\n",
    "G.add_edges_from([('A','B'),('A','C'),('B','C'),('B','D'),('C','D'),('D','E')])"
   ]
  },
  {
   "cell_type": "markdown",
   "id": "921111f5",
   "metadata": {},
   "source": [
    "## 创建有向图"
   ]
  },
  {
   "cell_type": "code",
   "execution_count": 6,
   "id": "0e32ceec",
   "metadata": {},
   "outputs": [],
   "source": [
    "DG = nx.DiGraph() #创建有向图\n",
    "DG.add_edges_from([('A','B'),('A','C'),('B','C'),('B','D'),('C','D'),('D','E')])\n"
   ]
  },
  {
   "cell_type": "markdown",
   "id": "cdaa805e",
   "metadata": {},
   "source": [
    "## 加权图"
   ]
  },
  {
   "cell_type": "code",
   "execution_count": 7,
   "id": "67b009dc",
   "metadata": {},
   "outputs": [],
   "source": [
    "WG = nx.Graph()\n",
    "WG.add_edges_from([('A','B',{'weight':10}),('A','C',{'weight':20}),('B','C',{'weight':30}),('B','D',{'weight':40}),('C','D',{'weight':50}),('D','E',{'weight':60})])\n",
    "label = nx.get_edge_attributes(WG,'weight')"
   ]
  },
  {
   "cell_type": "code",
   "execution_count": 8,
   "id": "520c5fb8",
   "metadata": {},
   "outputs": [
    {
     "name": "stdout",
     "output_type": "stream",
     "text": [
      "False\n"
     ]
    }
   ],
   "source": [
    "G1 = nx.Graph()\n",
    "G1.add_edges_from([(1,2),(2,3),(3,1),(4,5)])\n",
    "print(nx.is_connected(G1))"
   ]
  },
  {
   "cell_type": "code",
   "execution_count": 9,
   "id": "c04684aa",
   "metadata": {},
   "outputs": [
    {
     "name": "stdout",
     "output_type": "stream",
     "text": [
      "2\n",
      "0\n",
      "2\n"
     ]
    }
   ],
   "source": [
    "# 节点的度\n",
    "G = nx.Graph()\n",
    "G.add_edges_from([('A','B'),('A','C'),('B','D'),('B','E'),('C','F'),('C','G')])\n",
    "print(G.degree('A'))\n",
    "\n",
    "DG = nx.DiGraph()\n",
    "DG.add_edges_from([('A','B'),('A','C'),('B','D'),('B','E'),('C','F'),('C','G')])\n",
    "print(DG.in_degree('A'))\n",
    "print(DG.out_degree('A'))\n",
    "\n"
   ]
  },
  {
   "cell_type": "code",
   "execution_count": 10,
   "id": "a5ea3d5f",
   "metadata": {},
   "outputs": [
    {
     "name": "stdout",
     "output_type": "stream",
     "text": [
      "{'A': 0.3333333333333333, 'B': 0.5, 'C': 0.5, 'D': 0.16666666666666666, 'E': 0.16666666666666666, 'F': 0.16666666666666666, 'G': 0.16666666666666666}\n",
      "{'A': 0.6, 'B': 0.6, 'C': 0.6, 'D': 0.0, 'E': 0.0, 'F': 0.0, 'G': 0.0}\n",
      "{'A': 0.6, 'B': 0.5454545454545454, 'C': 0.5454545454545454, 'D': 0.375, 'E': 0.375, 'F': 0.375, 'G': 0.375}\n"
     ]
    }
   ],
   "source": [
    "print(nx.degree_centrality(G))\n",
    "print(nx.betweenness_centrality(G))\n",
    "print(nx.closeness_centrality(G))\n",
    "\n"
   ]
  },
  {
   "cell_type": "markdown",
   "id": "d9efa304",
   "metadata": {},
   "source": [
    "## 表示方法"
   ]
  },
  {
   "cell_type": "code",
   "execution_count": 11,
   "id": "7381acef",
   "metadata": {},
   "outputs": [],
   "source": [
    "# 邻接矩阵\n",
    "adj = [[0,1,1,0,0,0,0],\n",
    "       [1,0,1,1,0,0,0],\n",
    "       [1,1,0,1,0,0,0],\n",
    "       [0,1,1,0,1,0,0],\n",
    "       [0,0,0,1,0,1,1],\n",
    "       [0,0,0,0,1,0,1],\n",
    "       [0,0,0,0,1,1,0]]"
   ]
  },
  {
   "cell_type": "code",
   "execution_count": 12,
   "id": "28577659",
   "metadata": {},
   "outputs": [],
   "source": [
    "# 边列表\n",
    "edge_list = [(0,1),(0,2),(1,2),(1,3),(2,3),(3,4),(4,5),(4,6),(5,6)]"
   ]
  },
  {
   "cell_type": "code",
   "execution_count": 13,
   "id": "ce3a461b",
   "metadata": {},
   "outputs": [],
   "source": [
    "# 邻接列表\n",
    "adj_list = {0:[1,2],1:[2,3],2:[3,4],3:[4,5],4:[5,6],5:[6],6:[]}"
   ]
  },
  {
   "cell_type": "markdown",
   "id": "84dce238",
   "metadata": {},
   "source": [
    "## 图算法"
   ]
  },
  {
   "cell_type": "code",
   "execution_count": 15,
   "id": "d22fe73c",
   "metadata": {},
   "outputs": [],
   "source": [
    "G = nx.Graph()\n",
    "G.add_edges_from([('A','B'),('A','C'),('B','D'),('B','E'),('C','F'),('C','G')])"
   ]
  },
  {
   "cell_type": "code",
   "execution_count": 19,
   "id": "abcce545",
   "metadata": {},
   "outputs": [],
   "source": [
    "def bfs(graph, node):\n",
    "    visited, queue = [node], [node]\n",
    "    while queue:\n",
    "        node = queue.pop(0)\n",
    "\n",
    "        for neighbor in graph[node]:\n",
    "            if neighbor not in visited:\n",
    "                visited.append(neighbor)\n",
    "                queue.append(neighbor)\n",
    "    return visited\n",
    "\n"
   ]
  },
  {
   "cell_type": "code",
   "execution_count": 20,
   "id": "49b62066",
   "metadata": {},
   "outputs": [
    {
     "data": {
      "text/plain": [
       "['A', 'B', 'C', 'D', 'E', 'F', 'G']"
      ]
     },
     "execution_count": 20,
     "metadata": {},
     "output_type": "execute_result"
    }
   ],
   "source": [
    "bfs(G, 'A')"
   ]
  },
  {
   "cell_type": "code",
   "execution_count": 21,
   "id": "e94c45dd",
   "metadata": {},
   "outputs": [],
   "source": [
    "# 深度优先搜索\n",
    "visited = []"
   ]
  },
  {
   "cell_type": "code",
   "execution_count": 22,
   "id": "1d6b6c64",
   "metadata": {},
   "outputs": [],
   "source": [
    "def dfs(visited, graph, node):\n",
    "    if node not in visited:\n",
    "        visited.append(node)\n",
    "        for neighbor in graph[node]:\n",
    "            visited = dfs(visited, graph, neighbor)\n",
    "    return visited\n"
   ]
  },
  {
   "cell_type": "code",
   "execution_count": 23,
   "id": "0d280cf2",
   "metadata": {},
   "outputs": [
    {
     "data": {
      "text/plain": [
       "['A', 'B', 'D', 'E', 'C', 'F', 'G']"
      ]
     },
     "execution_count": 23,
     "metadata": {},
     "output_type": "execute_result"
    }
   ],
   "source": [
    "dfs(visited, G,'A')"
   ]
  },
  {
   "cell_type": "code",
   "execution_count": null,
   "id": "ebc15d61",
   "metadata": {},
   "outputs": [],
   "source": []
  }
 ],
 "metadata": {
  "kernelspec": {
   "display_name": "py38",
   "language": "python",
   "name": "python3"
  },
  "language_info": {
   "codemirror_mode": {
    "name": "ipython",
    "version": 3
   },
   "file_extension": ".py",
   "mimetype": "text/x-python",
   "name": "python",
   "nbconvert_exporter": "python",
   "pygments_lexer": "ipython3",
   "version": "3.8.20"
  }
 },
 "nbformat": 4,
 "nbformat_minor": 5
}
